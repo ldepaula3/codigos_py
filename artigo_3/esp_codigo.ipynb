{
 "cells": [
  {
   "cell_type": "code",
   "execution_count": 37,
   "metadata": {},
   "outputs": [
    {
     "name": "stdout",
     "output_type": "stream",
     "text": [
      "[ 1.]\n"
     ]
    },
    {
     "data": {
      "text/plain": [
       "1.0"
      ]
     },
     "execution_count": 37,
     "metadata": {},
     "output_type": "execute_result"
    }
   ],
   "source": [
    "import pandas as pd\n",
    "from sklearn.externals import joblib\n",
    "\n",
    "enc = joblib.load(\"/home/sas/encoder.sav\")\n",
    "loaded_model = joblib.load(\"/home/sas/finalized_model.sav\")\n",
    "\n",
    "def compute_total(Cli_Aceitacao, Cli_Idade, Tempo_Fiel, Total_Investido, Cli_Regiao, Cli_Status):\n",
    "    \"Output: total\"\n",
    "    if Cli_Status == \"Platino\":\n",
    "        Cli_Status = \"Ouro\"\n",
    "    tab_dum = pd.DataFrame([[Cli_Aceitacao, Cli_Idade, Tempo_Fiel, Total_Investido, Cli_Regiao, Cli_Status]] ,\n",
    "                                                    columns=['Cli_Aceitacao','Cli_Idade','Tempo_Fiel','Total_Investido', 'Cli_Regiao', 'Cli_Status'])\n",
    "    X = tab_dum[['Cli_Aceitacao','Cli_Idade', 'Tempo_Fiel', 'Total_Investido','Cli_Regiao', 'Cli_Status']].values\n",
    "\n",
    "    X_hotEncoded = enc.transform(X)\n",
    "\n",
    "    result = loaded_model.predict(X_hotEncoded)\n",
    "    total = result[0]\n",
    "    return total"
   ]
  }
 ],
 "metadata": {
  "kernelspec": {
   "display_name": "Python 3",
   "language": "python",
   "name": "python3"
  },
  "language_info": {
   "codemirror_mode": {
    "name": "ipython",
    "version": 3
   },
   "file_extension": ".py",
   "mimetype": "text/x-python",
   "name": "python",
   "nbconvert_exporter": "python",
   "pygments_lexer": "ipython3",
   "version": "3.6.2"
  }
 },
 "nbformat": 4,
 "nbformat_minor": 2
}
