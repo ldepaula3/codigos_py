{
 "cells": [
  {
   "cell_type": "code",
   "execution_count": 1,
   "metadata": {
    "collapsed": false
   },
   "outputs": [],
   "source": [
    "import swat\n",
    "import pandas as pd\n",
    "import numpy as np\n",
    "import seaborn\n",
    "import matplotlib.pyplot as plt\n",
    "\n",
    "from sklearn.metrics import roc_curve\n",
    "from sklearn.metrics import roc_auc_score\n",
    "from sklearn import tree\n",
    "from sklearn.metrics import accuracy_score\n",
    "from sklearn.metrics import confusion_matrix\n",
    "from sklearn.pipeline import Pipeline\n",
    "\n",
    "from nyoka import skl_to_pmml"
   ]
  },
  {
   "cell_type": "markdown",
   "metadata": {},
   "source": [
    "# Conexão com servidor"
   ]
  },
  {
   "cell_type": "code",
   "execution_count": 2,
   "metadata": {
    "collapsed": false
   },
   "outputs": [],
   "source": [
    "# Conexao com servidor\n",
    "try:\n",
    "    conn = swat.CAS( hostname=\"ip_do_servidor\", port=\"5570\",\n",
    "                    username=\"usuario\", password=\"senha\",\n",
    "                    protocol=\"cas\", name=\"pythonSession\")\n",
    "except swat.SWATError as err:\n",
    "    print(err)"
   ]
  },
  {
   "cell_type": "code",
   "execution_count": 3,
   "metadata": {
    "collapsed": false
   },
   "outputs": [],
   "source": [
    "tabela = conn.CASTable(\"TB_PY.sashdat\").to_frame()"
   ]
  },
  {
   "cell_type": "markdown",
   "metadata": {},
   "source": [
    "# Exploração dos Dados - Frequências"
   ]
  },
  {
   "cell_type": "code",
   "execution_count": null,
   "metadata": {
    "collapsed": false
   },
   "outputs": [],
   "source": [
    "for regiao,tam_reg in tabela.groupby('Cli_Regiao'):\n",
    "    for reg, targ in tabela.groupby(['Cli_Regiao', 'TARGET']):\n",
    "        regiao2, targets = reg\n",
    "        if regiao == regiao2:\n",
    "            if targets == 1:\n",
    "                print(\"taxa de resposta (1s) em {} = {}\".format(regiao, round((len(targ)/len(tam_reg)), 2)))"
   ]
  },
  {
   "cell_type": "code",
   "execution_count": null,
   "metadata": {
    "collapsed": false
   },
   "outputs": [],
   "source": [
    "# taxas de resposta dos status dos clientes\n",
    "for status,tam_stat in tabela.groupby('Cli_Status'):\n",
    "    for stat, targ in tabela.groupby(['Cli_Status', 'TARGET']):\n",
    "        stat2, targets = stat\n",
    "        if status == stat2:\n",
    "            if targets == 1:\n",
    "                print(\"taxa de resposta (1s) em {} = {}\".format(status, round((len(targ)/len(tam_stat)), 2)))"
   ]
  },
  {
   "cell_type": "markdown",
   "metadata": {},
   "source": [
    "##### Aparantemente platino e ouro podem ser unidos pois possuem taxa de resposta parecidas, embora tenham populações distintas"
   ]
  },
  {
   "cell_type": "code",
   "execution_count": null,
   "metadata": {
    "collapsed": false
   },
   "outputs": [],
   "source": [
    "# Agrupando platino e ouro\n",
    "tabela[\"Cli_Status\"] = np.where(tabela[\"Cli_Status\"] == \"Platino\" , \"Ouro\", tabela[\"Cli_Status\"] )\n",
    "\n",
    "# taxas de resposta dos status dos clientes agora agrupados (ouro e platino)\n",
    "for status,tam_stat in tabela.groupby('Cli_Status'):\n",
    "    for stat, targ in tabela.groupby(['Cli_Status', 'TARGET']):\n",
    "        stat2, targets = stat\n",
    "        if status == stat2:\n",
    "            if targets == 1:\n",
    "                print(\"taxa de resposta (1s) em {} = {}\".format(status, round((len(targ)/len(tam_stat)), 2)))"
   ]
  },
  {
   "cell_type": "markdown",
   "metadata": {},
   "source": [
    "## Criação de Dummies"
   ]
  },
  {
   "cell_type": "code",
   "execution_count": 15,
   "metadata": {
    "collapsed": false
   },
   "outputs": [],
   "source": [
    "# para regiao\n",
    "regiao = pd.Series(tabela[\"Cli_Regiao\"])\n",
    "reg_dum = pd.get_dummies(regiao)\n",
    "\n",
    "# para status\n",
    "status = pd.Series(tabela[\"Cli_Status\"])\n",
    "stat_dum = pd.get_dummies(status)\n",
    "\n",
    "# merge final\n",
    "tab_dum = pd.concat([tabela, reg_dum, stat_dum], axis = 1)\n",
    "\n",
    "# remove variaveis anteriores\n",
    "tab_dum.drop([\"Cli_Regiao\", \"Cli_Status\"], axis=1, inplace = True)"
   ]
  },
  {
   "cell_type": "markdown",
   "metadata": {},
   "source": [
    "# Criação do Modelo"
   ]
  },
  {
   "cell_type": "markdown",
   "metadata": {},
   "source": [
    "## Separação - treinamento/teste"
   ]
  },
  {
   "cell_type": "code",
   "execution_count": 16,
   "metadata": {
    "collapsed": false
   },
   "outputs": [],
   "source": [
    "train_test = tab_dum.drop([\"TARGET\"], axis=1)\n",
    "\n",
    "# Separa em treinamento\n",
    "X_train = train_test[train_test._PartInd_==1]\n",
    "y_train = tab_dum[tab_dum._PartInd_==1][\"TARGET\"]\n",
    "\n",
    "# Separa em teste\n",
    "X_test = train_test[tab_dum._PartInd_==0]\n",
    "y_test = tab_dum[tab_dum._PartInd_==0][\"TARGET\"]\n",
    "\n",
    "# Retira variáveis não necessárias\n",
    "X_test = X_test.drop([\"_PartInd_\",\"ID\"], axis=1)\n",
    "X_train = X_train.drop([\"_PartInd_\",\"ID\"], axis=1)"
   ]
  },
  {
   "cell_type": "markdown",
   "metadata": {},
   "source": [
    "## Treinamento"
   ]
  },
  {
   "cell_type": "code",
   "execution_count": 20,
   "metadata": {
    "collapsed": false
   },
   "outputs": [
    {
     "data": {
      "text/plain": [
       "Pipeline(memory=None,\n",
       "     steps=[('dt', DecisionTreeClassifier(class_weight=None, criterion='gini', max_depth=None,\n",
       "            max_features=None, max_leaf_nodes=None,\n",
       "            min_impurity_decrease=0.0, min_impurity_split=None,\n",
       "            min_samples_leaf=1, min_samples_split=2,\n",
       "            min_weight_fraction_leaf=0.0, presort=False, random_state=None,\n",
       "            splitter='best'))])"
      ]
     },
     "execution_count": 20,
     "metadata": {},
     "output_type": "execute_result"
    }
   ],
   "source": [
    "dt = Pipeline([\n",
    "    (\"dt\", tree.DecisionTreeClassifier())\n",
    "])\n",
    "\n",
    "dt.fit(X_train, y_train)"
   ]
  },
  {
   "cell_type": "markdown",
   "metadata": {},
   "source": [
    "## Scoragem"
   ]
  },
  {
   "cell_type": "code",
   "execution_count": 18,
   "metadata": {
    "collapsed": false
   },
   "outputs": [
    {
     "name": "stdout",
     "output_type": "stream",
     "text": [
      "Acurácia:  0.711864406779661\n"
     ]
    }
   ],
   "source": [
    "predicted = dt.predict(X_test)\n",
    "accuracy = accuracy_score(y_test, predicted)\n",
    "print( \"Acurácia: \", accuracy)"
   ]
  },
  {
   "cell_type": "markdown",
   "metadata": {},
   "source": [
    "# Matriz de Confusão"
   ]
  },
  {
   "cell_type": "code",
   "execution_count": 8,
   "metadata": {
    "collapsed": false
   },
   "outputs": [
    {
     "name": "stdout",
     "output_type": "stream",
     "text": [
      "TN:  4101\n",
      "FP:  914\n",
      "FN:  992\n",
      "TP:  660\n"
     ]
    }
   ],
   "source": [
    "cm = confusion_matrix(y_test, predicted)\n",
    "\n",
    "tn, fp, fn, tp = confusion_matrix(y_test, predicted).ravel()\n",
    "\n",
    "print( \"TN: \", tn)\n",
    "print( \"FP: \", fp)\n",
    "print( \"FN: \", fn)\n",
    "print( \"TP: \", tp)"
   ]
  },
  {
   "cell_type": "markdown",
   "metadata": {},
   "source": [
    "# Gráfico de Assessment - ROC"
   ]
  },
  {
   "cell_type": "code",
   "execution_count": 9,
   "metadata": {
    "collapsed": false
   },
   "outputs": [
    {
     "data": {
      "image/png": "[encoded data removed]",
      "text/plain": [
       "<matplotlib.figure.Figure at 0x7f9df2ccfe10>"
      ]
     },
     "metadata": {},
     "output_type": "display_data"
    }
   ],
   "source": [
    "fpr, tpr, thresholds = roc_curve(tab_dum[tab_dum._PartInd_==0][\"TARGET\"], predicted)\n",
    "roc_auc = roc_auc_score(tab_dum[tab_dum._PartInd_==0][\"TARGET\"], predicted)\n",
    "\n",
    "plt.plot(fpr, tpr, label='Curva ROC (área = %0.3f)' % roc_auc)\n",
    "plt.plot([0, 1], [0, 1], 'k--')\n",
    "plt.xlim([0.0, 1.0])\n",
    "plt.ylim([0.0, 1.0])\n",
    "plt.xlabel('False Positive Rate or (1 - Specifity)')\n",
    "plt.ylabel('True Positive Rate or (Sensitivity)')\n",
    "plt.title('Receiver Operating Characteristic')\n",
    "plt.legend(loc=\"lower right\")\n",
    "plt.show()"
   ]
  },
  {
   "cell_type": "markdown",
   "metadata": {},
   "source": [
    "# Salva em PMML"
   ]
  },
  {
   "cell_type": "code",
   "execution_count": 23,
   "metadata": {
    "collapsed": false
   },
   "outputs": [],
   "source": [
    "skl_to_pmml(dt,list(X_train),\"TARGET\",\"pmml/dt2.pmml\")"
   ]
  },
  {
   "cell_type": "code",
   "execution_count": null,
   "metadata": {
    "collapsed": true
   },
   "outputs": [],
   "source": [
    "conn.terminate()"
   ]
  }
 ],
 "metadata": {
  "kernelspec": {
   "display_name": "Python 3",
   "language": "python",
   "name": "python3"
  },
  "language_info": {
   "codemirror_mode": {
    "name": "ipython",
    "version": 3
   },
   "file_extension": ".py",
   "mimetype": "text/x-python",
   "name": "python",
   "nbconvert_exporter": "python",
   "pygments_lexer": "ipython3",
   "version": "3.6.0"
  }
 },
 "nbformat": 4,
 "nbformat_minor": 2
}
